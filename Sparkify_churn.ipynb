{
 "cells": [
  {
   "cell_type": "markdown",
   "metadata": {},
   "source": [
    "# Sparkify Project Workspace\n",
    "This workspace contains a tiny subset (128MB) of the full dataset available (12GB). Feel free to use this workspace to build your project, or to explore a smaller subset with Spark before deploying your cluster on the cloud. Instructions for setting up your Spark cluster is included in the last lesson of the Extracurricular Spark Course content.\n",
    "\n",
    "You can follow the steps below to guide your data analysis and model building portion of this project."
   ]
  },
  {
   "cell_type": "markdown",
   "metadata": {},
   "source": [
    "# 1. Import libraries and create Spark session"
   ]
  },
  {
   "cell_type": "code",
   "execution_count": 1,
   "metadata": {},
   "outputs": [],
   "source": [
    "import pyspark\n",
    "import numpy as np\n",
    "import seaborn as sns\n",
    "import re\n",
    "from pyspark.sql import SparkSession\n",
    "from pyspark.sql.types import IntegerType,StringType,DoubleType, LongType\n",
    "from pyspark.sql.window import Window\n",
    "from pyspark.sql.functions import  desc, explode, lit, split, udf,count, avg, col, concat\\\n",
    ",mean,when,lead,isnan,countDistinct,month,from_unixtime,datediff,to_timestamp\n",
    "from pyspark.sql.functions import sum as Fsum\n",
    "import pyspark.sql.functions as F\n",
    "import pandas as pd\n",
    "import scipy.stats as stats\n",
    "\n",
    "from pyspark.ml import Pipeline\n",
    "from pyspark.ml.classification import LogisticRegression,RandomForestClassifier, GBTClassifier, DecisionTreeClassifier\n",
    "from pyspark.ml.evaluation import BinaryClassificationEvaluator, MulticlassClassificationEvaluator\n",
    "from pyspark.ml.feature import MinMaxScaler, StringIndexer, VectorAssembler\n",
    "from pyspark.ml.tuning import CrossValidator, ParamGridBuilder\n",
    "\n",
    "%matplotlib inline\n",
    "import matplotlib.pyplot as plt"
   ]
  },
  {
   "cell_type": "code",
   "execution_count": 2,
   "metadata": {},
   "outputs": [],
   "source": [
    "# create a Spark session\n",
    "spark = SparkSession.builder \\\n",
    "    .master(\"local\") \\\n",
    "    .appName(\"EDA\") \\\n",
    "    .getOrCreate()"
   ]
  },
  {
   "cell_type": "markdown",
   "metadata": {},
   "source": [
    "# 2. Load and Clean Dataset\n",
    "In this workspace, the mini-dataset file is `mini_sparkify_event_data.json`. Load and clean the dataset, checking for invalid or missing data - for example, records without userids or sessionids. "
   ]
  },
  {
   "cell_type": "markdown",
   "metadata": {},
   "source": [
    "## 2.1 Load data and check columns"
   ]
  },
  {
   "cell_type": "code",
   "execution_count": 3,
   "metadata": {},
   "outputs": [
    {
     "name": "stdout",
     "output_type": "stream",
     "text": [
      "root\n",
      " |-- artist: string (nullable = true)\n",
      " |-- auth: string (nullable = true)\n",
      " |-- firstName: string (nullable = true)\n",
      " |-- gender: string (nullable = true)\n",
      " |-- itemInSession: long (nullable = true)\n",
      " |-- lastName: string (nullable = true)\n",
      " |-- length: double (nullable = true)\n",
      " |-- level: string (nullable = true)\n",
      " |-- location: string (nullable = true)\n",
      " |-- method: string (nullable = true)\n",
      " |-- page: string (nullable = true)\n",
      " |-- registration: long (nullable = true)\n",
      " |-- sessionId: long (nullable = true)\n",
      " |-- song: string (nullable = true)\n",
      " |-- status: long (nullable = true)\n",
      " |-- ts: long (nullable = true)\n",
      " |-- userAgent: string (nullable = true)\n",
      " |-- userId: string (nullable = true)\n",
      "\n"
     ]
    }
   ],
   "source": [
    "df = spark.read.json('mini_sparkify_event_data.json')\n",
    "df.printSchema() # check categories/columns "
   ]
  },
  {
   "cell_type": "code",
   "execution_count": 4,
   "metadata": {},
   "outputs": [],
   "source": [
    "#user_df.write.save(\"user_df2.csv\",format='csv')"
   ]
  },
  {
   "cell_type": "code",
   "execution_count": 5,
   "metadata": {},
   "outputs": [
    {
     "data": {
      "text/html": [
       "<div>\n",
       "<style scoped>\n",
       "    .dataframe tbody tr th:only-of-type {\n",
       "        vertical-align: middle;\n",
       "    }\n",
       "\n",
       "    .dataframe tbody tr th {\n",
       "        vertical-align: top;\n",
       "    }\n",
       "\n",
       "    .dataframe thead th {\n",
       "        text-align: right;\n",
       "    }\n",
       "</style>\n",
       "<table border=\"1\" class=\"dataframe\">\n",
       "  <thead>\n",
       "    <tr style=\"text-align: right;\">\n",
       "      <th></th>\n",
       "      <th>artist</th>\n",
       "      <th>auth</th>\n",
       "      <th>firstName</th>\n",
       "      <th>gender</th>\n",
       "      <th>itemInSession</th>\n",
       "      <th>lastName</th>\n",
       "      <th>length</th>\n",
       "      <th>level</th>\n",
       "      <th>location</th>\n",
       "      <th>method</th>\n",
       "      <th>page</th>\n",
       "      <th>registration</th>\n",
       "      <th>sessionId</th>\n",
       "      <th>song</th>\n",
       "      <th>status</th>\n",
       "      <th>ts</th>\n",
       "      <th>userAgent</th>\n",
       "      <th>userId</th>\n",
       "    </tr>\n",
       "  </thead>\n",
       "  <tbody>\n",
       "    <tr>\n",
       "      <th>0</th>\n",
       "      <td>Martha Tilston</td>\n",
       "      <td>Logged In</td>\n",
       "      <td>Colin</td>\n",
       "      <td>M</td>\n",
       "      <td>50</td>\n",
       "      <td>Freeman</td>\n",
       "      <td>277.89016</td>\n",
       "      <td>paid</td>\n",
       "      <td>Bakersfield, CA</td>\n",
       "      <td>PUT</td>\n",
       "      <td>NextSong</td>\n",
       "      <td>1538173362000</td>\n",
       "      <td>29</td>\n",
       "      <td>Rockpools</td>\n",
       "      <td>200</td>\n",
       "      <td>1538352117000</td>\n",
       "      <td>Mozilla/5.0 (Windows NT 6.1; WOW64; rv:31.0) G...</td>\n",
       "      <td>30</td>\n",
       "    </tr>\n",
       "    <tr>\n",
       "      <th>1</th>\n",
       "      <td>Five Iron Frenzy</td>\n",
       "      <td>Logged In</td>\n",
       "      <td>Micah</td>\n",
       "      <td>M</td>\n",
       "      <td>79</td>\n",
       "      <td>Long</td>\n",
       "      <td>236.09424</td>\n",
       "      <td>free</td>\n",
       "      <td>Boston-Cambridge-Newton, MA-NH</td>\n",
       "      <td>PUT</td>\n",
       "      <td>NextSong</td>\n",
       "      <td>1538331630000</td>\n",
       "      <td>8</td>\n",
       "      <td>Canada</td>\n",
       "      <td>200</td>\n",
       "      <td>1538352180000</td>\n",
       "      <td>\"Mozilla/5.0 (Windows NT 6.1; WOW64) AppleWebK...</td>\n",
       "      <td>9</td>\n",
       "    </tr>\n",
       "    <tr>\n",
       "      <th>2</th>\n",
       "      <td>Adam Lambert</td>\n",
       "      <td>Logged In</td>\n",
       "      <td>Colin</td>\n",
       "      <td>M</td>\n",
       "      <td>51</td>\n",
       "      <td>Freeman</td>\n",
       "      <td>282.82730</td>\n",
       "      <td>paid</td>\n",
       "      <td>Bakersfield, CA</td>\n",
       "      <td>PUT</td>\n",
       "      <td>NextSong</td>\n",
       "      <td>1538173362000</td>\n",
       "      <td>29</td>\n",
       "      <td>Time For Miracles</td>\n",
       "      <td>200</td>\n",
       "      <td>1538352394000</td>\n",
       "      <td>Mozilla/5.0 (Windows NT 6.1; WOW64; rv:31.0) G...</td>\n",
       "      <td>30</td>\n",
       "    </tr>\n",
       "    <tr>\n",
       "      <th>3</th>\n",
       "      <td>Enigma</td>\n",
       "      <td>Logged In</td>\n",
       "      <td>Micah</td>\n",
       "      <td>M</td>\n",
       "      <td>80</td>\n",
       "      <td>Long</td>\n",
       "      <td>262.71302</td>\n",
       "      <td>free</td>\n",
       "      <td>Boston-Cambridge-Newton, MA-NH</td>\n",
       "      <td>PUT</td>\n",
       "      <td>NextSong</td>\n",
       "      <td>1538331630000</td>\n",
       "      <td>8</td>\n",
       "      <td>Knocking On Forbidden Doors</td>\n",
       "      <td>200</td>\n",
       "      <td>1538352416000</td>\n",
       "      <td>\"Mozilla/5.0 (Windows NT 6.1; WOW64) AppleWebK...</td>\n",
       "      <td>9</td>\n",
       "    </tr>\n",
       "    <tr>\n",
       "      <th>4</th>\n",
       "      <td>Daft Punk</td>\n",
       "      <td>Logged In</td>\n",
       "      <td>Colin</td>\n",
       "      <td>M</td>\n",
       "      <td>52</td>\n",
       "      <td>Freeman</td>\n",
       "      <td>223.60771</td>\n",
       "      <td>paid</td>\n",
       "      <td>Bakersfield, CA</td>\n",
       "      <td>PUT</td>\n",
       "      <td>NextSong</td>\n",
       "      <td>1538173362000</td>\n",
       "      <td>29</td>\n",
       "      <td>Harder Better Faster Stronger</td>\n",
       "      <td>200</td>\n",
       "      <td>1538352676000</td>\n",
       "      <td>Mozilla/5.0 (Windows NT 6.1; WOW64; rv:31.0) G...</td>\n",
       "      <td>30</td>\n",
       "    </tr>\n",
       "  </tbody>\n",
       "</table>\n",
       "</div>"
      ],
      "text/plain": [
       "             artist       auth firstName gender  itemInSession lastName  \\\n",
       "0    Martha Tilston  Logged In     Colin      M             50  Freeman   \n",
       "1  Five Iron Frenzy  Logged In     Micah      M             79     Long   \n",
       "2      Adam Lambert  Logged In     Colin      M             51  Freeman   \n",
       "3            Enigma  Logged In     Micah      M             80     Long   \n",
       "4         Daft Punk  Logged In     Colin      M             52  Freeman   \n",
       "\n",
       "      length level                        location method      page  \\\n",
       "0  277.89016  paid                 Bakersfield, CA    PUT  NextSong   \n",
       "1  236.09424  free  Boston-Cambridge-Newton, MA-NH    PUT  NextSong   \n",
       "2  282.82730  paid                 Bakersfield, CA    PUT  NextSong   \n",
       "3  262.71302  free  Boston-Cambridge-Newton, MA-NH    PUT  NextSong   \n",
       "4  223.60771  paid                 Bakersfield, CA    PUT  NextSong   \n",
       "\n",
       "    registration  sessionId                           song  status  \\\n",
       "0  1538173362000         29                      Rockpools     200   \n",
       "1  1538331630000          8                         Canada     200   \n",
       "2  1538173362000         29              Time For Miracles     200   \n",
       "3  1538331630000          8    Knocking On Forbidden Doors     200   \n",
       "4  1538173362000         29  Harder Better Faster Stronger     200   \n",
       "\n",
       "              ts                                          userAgent userId  \n",
       "0  1538352117000  Mozilla/5.0 (Windows NT 6.1; WOW64; rv:31.0) G...     30  \n",
       "1  1538352180000  \"Mozilla/5.0 (Windows NT 6.1; WOW64) AppleWebK...      9  \n",
       "2  1538352394000  Mozilla/5.0 (Windows NT 6.1; WOW64; rv:31.0) G...     30  \n",
       "3  1538352416000  \"Mozilla/5.0 (Windows NT 6.1; WOW64) AppleWebK...      9  \n",
       "4  1538352676000  Mozilla/5.0 (Windows NT 6.1; WOW64; rv:31.0) G...     30  "
      ]
     },
     "execution_count": 5,
     "metadata": {},
     "output_type": "execute_result"
    }
   ],
   "source": [
    "df_data = pd.DataFrame(df.take(5), columns=df.columns)\n",
    "df_data.head()"
   ]
  },
  {
   "cell_type": "code",
   "execution_count": 39,
   "metadata": {},
   "outputs": [],
   "source": [
    "# df.describe().show() # check statistics, but overall statistcis doesn't give too much information "
   ]
  },
  {
   "cell_type": "code",
   "execution_count": 32,
   "metadata": {
    "scrolled": false
   },
   "outputs": [
    {
     "name": "stdout",
     "output_type": "stream",
     "text": [
      "+--------------------+-----+\n",
      "|              artist|count|\n",
      "+--------------------+-----+\n",
      "|      The Black Keys| 1125|\n",
      "|         Silverstein|   60|\n",
      "|           Kate Nash|   99|\n",
      "|        Yann Tiersen|  139|\n",
      "|    Jane's Addiction|   68|\n",
      "|          Tim Hughes|   39|\n",
      "|          Carl Craig|    3|\n",
      "|Dashboard Confess...|   98|\n",
      "|Yonder Mountain S...|   63|\n",
      "|           Los Lobos|   45|\n",
      "|Pete Rock & C.L. ...|    2|\n",
      "|        Ziggy Marley|   28|\n",
      "|      Jarabe De Palo|   83|\n",
      "|               Rufio|   13|\n",
      "|WC And The Maad C...|    1|\n",
      "|      Jorge Gonzalez|   24|\n",
      "|                Silk|   22|\n",
      "|  The Watts Prophets|    6|\n",
      "|            La Shica|    2|\n",
      "|        Generation X|   19|\n",
      "+--------------------+-----+\n",
      "only showing top 20 rows\n",
      "\n",
      "+----------+------+\n",
      "|      auth| count|\n",
      "+----------+------+\n",
      "|Logged Out|  8249|\n",
      "| Cancelled|    52|\n",
      "|     Guest|    97|\n",
      "| Logged In|278102|\n",
      "+----------+------+\n",
      "\n",
      "+------+------+\n",
      "|gender| count|\n",
      "+------+------+\n",
      "|     F|154578|\n",
      "|  null|  8346|\n",
      "|     M|123576|\n",
      "+------+------+\n",
      "\n",
      "+-------------+-----+\n",
      "|itemInSession|count|\n",
      "+-------------+-----+\n",
      "|           26| 2187|\n",
      "|           29| 2102|\n",
      "|          474|   51|\n",
      "|          964|    2|\n",
      "|           65| 1336|\n",
      "|          191|  414|\n",
      "|          418|   76|\n",
      "|          541|   29|\n",
      "|          558|   24|\n",
      "|         1010|    2|\n",
      "|         1224|    1|\n",
      "|         1258|    1|\n",
      "|         1277|    1|\n",
      "|          222|  316|\n",
      "|          270|  234|\n",
      "|          293|  193|\n",
      "|          730|    4|\n",
      "|          938|    2|\n",
      "|         1127|    1|\n",
      "|         1145|    1|\n",
      "+-------------+-----+\n",
      "only showing top 20 rows\n",
      "\n",
      "+-----+------+\n",
      "|level| count|\n",
      "+-----+------+\n",
      "| free| 58338|\n",
      "| paid|228162|\n",
      "+-----+------+\n",
      "\n",
      "+--------------------+-----+\n",
      "|            location|count|\n",
      "+--------------------+-----+\n",
      "|     Gainesville, FL| 1229|\n",
      "|Atlantic City-Ham...| 2176|\n",
      "|Deltona-Daytona B...|   73|\n",
      "|San Diego-Carlsba...|  754|\n",
      "|Cleveland-Elyria, OH| 1392|\n",
      "|Kingsport-Bristol...| 1863|\n",
      "|New Haven-Milford...| 4007|\n",
      "|Birmingham-Hoover...|   75|\n",
      "|  Corpus Christi, TX|   11|\n",
      "|         Dubuque, IA|  651|\n",
      "|Las Vegas-Henders...| 2042|\n",
      "|Indianapolis-Carm...|  970|\n",
      "|Seattle-Tacoma-Be...|  246|\n",
      "|          Albany, OR|   23|\n",
      "|   Winston-Salem, NC|  819|\n",
      "|     Bakersfield, CA| 1775|\n",
      "|Los Angeles-Long ...|30131|\n",
      "|Minneapolis-St. P...| 2134|\n",
      "|San Francisco-Oak...| 2647|\n",
      "|Phoenix-Mesa-Scot...| 4846|\n",
      "+--------------------+-----+\n",
      "only showing top 20 rows\n",
      "\n",
      "+------+------+\n",
      "|method| count|\n",
      "+------+------+\n",
      "|   PUT|261064|\n",
      "|   GET| 25436|\n",
      "+------+------+\n",
      "\n",
      "+--------------------+------+\n",
      "|                page| count|\n",
      "+--------------------+------+\n",
      "|              Cancel|    52|\n",
      "|    Submit Downgrade|    63|\n",
      "|         Thumbs Down|  2546|\n",
      "|                Home| 14457|\n",
      "|           Downgrade|  2055|\n",
      "|         Roll Advert|  3933|\n",
      "|              Logout|  3226|\n",
      "|       Save Settings|   310|\n",
      "|Cancellation Conf...|    52|\n",
      "|               About|   924|\n",
      "| Submit Registration|     5|\n",
      "|            Settings|  1514|\n",
      "|               Login|  3241|\n",
      "|            Register|    18|\n",
      "|     Add to Playlist|  6526|\n",
      "|          Add Friend|  4277|\n",
      "|            NextSong|228108|\n",
      "|           Thumbs Up| 12551|\n",
      "|                Help|  1726|\n",
      "|             Upgrade|   499|\n",
      "+--------------------+------+\n",
      "only showing top 20 rows\n",
      "\n",
      "+------+------+\n",
      "|status| count|\n",
      "+------+------+\n",
      "|   307| 26430|\n",
      "|   404|   258|\n",
      "|   200|259812|\n",
      "+------+------+\n",
      "\n"
     ]
    }
   ],
   "source": [
    "# select and show statistcs for several items \n",
    "for col in df.schema:    \n",
    "    if str(col.name) in ['artist','auth','gender','itemInSession','level' ,'location','method','page','status']:\n",
    "        df.groupBy(str(col.name)).count().show() #understand the meaning of columns "
   ]
  },
  {
   "cell_type": "markdown",
   "metadata": {},
   "source": [
    "## 2.2 Check for null values"
   ]
  },
  {
   "cell_type": "code",
   "execution_count": 101,
   "metadata": {},
   "outputs": [
    {
     "name": "stdout",
     "output_type": "stream",
     "text": [
      "artist : 58392\n",
      "auth : 0\n",
      "firstName : 8346\n",
      "gender : 8346\n",
      "itemInSession : 0\n",
      "lastName : 8346\n",
      "length : 58392\n",
      "level : 0\n",
      "location : 8346\n",
      "method : 0\n",
      "page : 0\n",
      "registration : 8346\n",
      "sessionId : 0\n",
      "song : 58392\n",
      "status : 0\n",
      "ts : 0\n",
      "userAgent : 8346\n",
      "userId : 0\n"
     ]
    }
   ],
   "source": [
    "for s in df.columns:\n",
    "    print(s,':',df.filter(df[s].isNull()).count())\n",
    "    "
   ]
  },
  {
   "cell_type": "code",
   "execution_count": 116,
   "metadata": {},
   "outputs": [
    {
     "name": "stdout",
     "output_type": "stream",
     "text": [
      "+------+\n",
      "|userId|\n",
      "+------+\n",
      "|    10|\n",
      "|   100|\n",
      "|100001|\n",
      "|100002|\n",
      "|100003|\n",
      "|100004|\n",
      "|100005|\n",
      "|100006|\n",
      "|100007|\n",
      "|100008|\n",
      "|100009|\n",
      "|100010|\n",
      "|100011|\n",
      "|100012|\n",
      "|100013|\n",
      "|100014|\n",
      "|100015|\n",
      "|100016|\n",
      "|100017|\n",
      "|100018|\n",
      "+------+\n",
      "only showing top 20 rows\n",
      "\n",
      "+---------+\n",
      "|sessionId|\n",
      "+---------+\n",
      "|        1|\n",
      "|        2|\n",
      "|        3|\n",
      "|        4|\n",
      "|        5|\n",
      "|        6|\n",
      "|        7|\n",
      "|        8|\n",
      "|        9|\n",
      "|       10|\n",
      "|       11|\n",
      "|       12|\n",
      "|       13|\n",
      "|       15|\n",
      "|       16|\n",
      "|       17|\n",
      "|       18|\n",
      "|       19|\n",
      "|       20|\n",
      "|       21|\n",
      "+---------+\n",
      "only showing top 20 rows\n",
      "\n"
     ]
    },
    {
     "data": {
      "text/plain": [
       "(None, None)"
      ]
     },
     "execution_count": 116,
     "metadata": {},
     "output_type": "execute_result"
    }
   ],
   "source": [
    "df.select('userId').distinct().sort(\"userId\").show(), df.select('sessionId').distinct().sort(\"sessionId\").show() #userid has blank values "
   ]
  },
  {
   "cell_type": "code",
   "execution_count": 6,
   "metadata": {},
   "outputs": [
    {
     "data": {
      "text/plain": [
       "(0, 0)"
      ]
     },
     "execution_count": 6,
     "metadata": {},
     "output_type": "execute_result"
    }
   ],
   "source": [
    "# dropna with userid and sessionid \n",
    "df = df.filter(df['userId']!='')\n",
    "df.filter(df.userId == '').count(),df.filter(df.sessionId == '').count()"
   ]
  },
  {
   "cell_type": "code",
   "execution_count": 7,
   "metadata": {},
   "outputs": [
    {
     "data": {
      "text/plain": [
       "225"
      ]
     },
     "execution_count": 7,
     "metadata": {},
     "output_type": "execute_result"
    }
   ],
   "source": [
    "df.select('userId').distinct().count() # there are 225 users "
   ]
  },
  {
   "cell_type": "markdown",
   "metadata": {},
   "source": [
    "# 3. Exploratory Data Analysis\n",
    "When you're working with the full dataset, perform EDA by loading a small subset of the data and doing basic manipulations within Spark. In this workspace, you are already provided a small subset of data you can explore.\n",
    "\n",
    "### 3.1 Define Churn\n",
    "\n",
    "Once you've done some preliminary analysis, create a column `Churn` to use as the label for your model. I suggest using the `Cancellation Confirmation` events to define your churn, which happen for both paid and free users. As a bonus task, you can also look into the `Downgrade` events."
   ]
  },
  {
   "cell_type": "code",
   "execution_count": 8,
   "metadata": {},
   "outputs": [
    {
     "name": "stdout",
     "output_type": "stream",
     "text": [
      "root\n",
      " |-- artist: string (nullable = true)\n",
      " |-- auth: string (nullable = true)\n",
      " |-- firstName: string (nullable = true)\n",
      " |-- gender: string (nullable = true)\n",
      " |-- itemInSession: long (nullable = true)\n",
      " |-- lastName: string (nullable = true)\n",
      " |-- length: double (nullable = true)\n",
      " |-- level: string (nullable = true)\n",
      " |-- location: string (nullable = true)\n",
      " |-- method: string (nullable = true)\n",
      " |-- page: string (nullable = true)\n",
      " |-- registration: long (nullable = true)\n",
      " |-- sessionId: long (nullable = true)\n",
      " |-- song: string (nullable = true)\n",
      " |-- status: long (nullable = true)\n",
      " |-- ts: long (nullable = true)\n",
      " |-- userAgent: string (nullable = true)\n",
      " |-- userId: string (nullable = true)\n",
      " |-- churn: integer (nullable = false)\n",
      "\n"
     ]
    }
   ],
   "source": [
    "df=df.withColumn('churn',when(col('page')=='Cancellation Confirmation', 1).otherwise(0))\n",
    "#df_churn = df.join(churn_df, on='userId')\n",
    "df.printSchema()"
   ]
  },
  {
   "cell_type": "code",
   "execution_count": 9,
   "metadata": {},
   "outputs": [
    {
     "name": "stdout",
     "output_type": "stream",
     "text": [
      "+---------+------+\n",
      "|   length|userId|\n",
      "+---------+------+\n",
      "|277.89016|    30|\n",
      "|236.09424|     9|\n",
      "| 282.8273|    30|\n",
      "|262.71302|     9|\n",
      "|223.60771|    30|\n",
      "|208.29995|     9|\n",
      "|260.46649|     9|\n",
      "|185.44281|    30|\n",
      "|     null|    30|\n",
      "|134.47791|    30|\n",
      "| 229.8771|     9|\n",
      "|     null|     9|\n",
      "|223.58159|    30|\n",
      "|201.06404|     9|\n",
      "|     null|     9|\n",
      "|246.69995|    30|\n",
      "|168.64608|     9|\n",
      "| 166.1122|    74|\n",
      "|222.22322|    30|\n",
      "|229.77261|     9|\n",
      "+---------+------+\n",
      "only showing top 20 rows\n",
      "\n"
     ]
    }
   ],
   "source": [
    "df.select('length','userId').show()"
   ]
  },
  {
   "cell_type": "code",
   "execution_count": 10,
   "metadata": {},
   "outputs": [
    {
     "data": {
      "text/plain": [
       "0.2311111111111111"
      ]
     },
     "execution_count": 10,
     "metadata": {},
     "output_type": "execute_result"
    }
   ],
   "source": [
    "df.filter(df.churn == 1).select('userID').distinct().count()/225 #churn rate"
   ]
  },
  {
   "cell_type": "markdown",
   "metadata": {},
   "source": [
    "### 3.2 Explore Data\n",
    "Once you've defined churn, perform some exploratory data analysis to observe the behavior for users who stayed vs users who churned. You can start by exploring aggregates on these two groups of users, observing how much of a specific action they experienced per a certain time unit or number of songs played.\n",
    "\n",
    "Following are possible factors that might contribute to churn behavior:\n",
    "\n",
    "1. artist count\n",
    "2. song count \n",
    "3. average session length\n",
    "4. largest gap between visits  \n",
    "5. session counts \n",
    "6. cancellation page count  \n",
    "7. gender \n",
    "8. location \n",
    "9. level \n",
    "10. total length of visit \n",
    "11. total registration days \n",
    "12. session frequency: session count/registration days "
   ]
  },
  {
   "cell_type": "code",
   "execution_count": 11,
   "metadata": {},
   "outputs": [
    {
     "data": {
      "text/plain": [
       "225"
      ]
     },
     "execution_count": 11,
     "metadata": {},
     "output_type": "execute_result"
    }
   ],
   "source": [
    "# explore factors that might contribute to churn on user level \n",
    "# build base user_df\n",
    "user_df = df.groupBy('userId').agg(F.max('churn')).withColumnRenamed(\"max(churn)\", \"churn\")\n",
    "user_df.count()"
   ]
  },
  {
   "cell_type": "markdown",
   "metadata": {},
   "source": [
    "#### 3.2.1 Engineer features"
   ]
  },
  {
   "cell_type": "code",
   "execution_count": 12,
   "metadata": {},
   "outputs": [],
   "source": [
    "# gender to int\n",
    "int_gender = udf(lambda x: 1 if x == 'F' else 0, IntegerType())\n",
    "df = df.withColumn('int_gender',int_gender('gender'))\n",
    "genderdf = df.groupBy('userId').agg(F.max('int_gender')).withColumnRenamed('max(int_gender)','gender')\n",
    "user_df=user_df.join(genderdf, ['userId'])"
   ]
  },
  {
   "cell_type": "code",
   "execution_count": 13,
   "metadata": {},
   "outputs": [],
   "source": [
    "# level to int\n",
    "int_level = udf(lambda x: 1 if x == 'paid' else 0, IntegerType())\n",
    "df = df.withColumn('int_level',int_level('level'))\n",
    "leveldf = df.groupBy('userId').agg(F.max('int_level')).withColumnRenamed('max(int_level)','level')\n",
    "user_df = user_df.join(leveldf,['userId'])"
   ]
  },
  {
   "cell_type": "code",
   "execution_count": 14,
   "metadata": {},
   "outputs": [],
   "source": [
    "# artist count \n",
    "artist_count = df.groupBy('userId').agg(countDistinct('artist')).withColumnRenamed('count(DISTINCT artist)','artist_count')\n",
    "user_df=user_df.join(artist_count, ['userId'])"
   ]
  },
  {
   "cell_type": "code",
   "execution_count": 15,
   "metadata": {},
   "outputs": [],
   "source": [
    "# song count \n",
    "song_count = df.groupBy('userId').agg(countDistinct('song')).withColumnRenamed('count(DISTINCT song)','song_count')\n",
    "user_df=user_df.join(song_count, ['userId'])"
   ]
  },
  {
   "cell_type": "code",
   "execution_count": 16,
   "metadata": {},
   "outputs": [],
   "source": [
    "# average session length \n",
    "length_mean = df.groupBy('userId').agg(mean('length')).withColumnRenamed('mean(length)','length_mean')\n",
    "user_df=user_df.join(length_mean, ['userId'])"
   ]
  },
  {
   "cell_type": "code",
   "execution_count": 17,
   "metadata": {},
   "outputs": [],
   "source": [
    "# total session counts \n",
    "session_count = df.groupBy('userId').agg(count('sessionId')).withColumnRenamed('count(sessionId)','session_count')\n",
    "user_df=user_df.join(session_count, ['userId'])"
   ]
  },
  {
   "cell_type": "code",
   "execution_count": 18,
   "metadata": {},
   "outputs": [],
   "source": [
    "# total cancellation page counts \n",
    "import pyspark.sql.functions as F     \n",
    "count_cancel = udf(lambda x: 1 if x == 'Cancel' else 0, IntegerType())\n",
    "df = df.withColumn('is_cancel',count_cancel('page'))\n",
    "cancel_count = df.groupBy('userId').agg(F.sum('is_cancel')).withColumnRenamed('sum(is_cancel)','cancel_count')\n",
    "user_df=user_df.join(cancel_count, ['userId'])"
   ]
  },
  {
   "cell_type": "code",
   "execution_count": 19,
   "metadata": {},
   "outputs": [],
   "source": [
    "# localtion \n",
    "location_df = df.select('userId','location').dropDuplicates(['userId'])\n",
    "# simplify location to state level \n",
    "location_df = location_df.withColumn('location', split(col('location'),',').getItem(1))\n",
    "user_df=user_df.join(location_df, ['userId'])"
   ]
  },
  {
   "cell_type": "code",
   "execution_count": 20,
   "metadata": {},
   "outputs": [],
   "source": [
    "# total length of visit \n",
    "total_length = df.groupBy('userId').agg(F.sum('length')).withColumnRenamed('sum(length)','total_length')\n",
    "user_df=user_df.join(total_length, ['userId'])\n"
   ]
  },
  {
   "cell_type": "code",
   "execution_count": 21,
   "metadata": {},
   "outputs": [],
   "source": [
    "# longest visit gap\n",
    "def calc_gap(x):\n",
    "    '''\n",
    "    calculate largest time gap between user's sessions \n",
    "    parameters:\n",
    "    input: list x (sorted ascending)\n",
    "    output: a number gap that's the largest difference between neighbors in x\n",
    "    \n",
    "    '''\n",
    "    x.sort()\n",
    "    gap_list = []\n",
    "    if len(x)>1:\n",
    "        for i in range(len(x)-2):\n",
    "            gap_list.append(x[i+1]-x[i])\n",
    "    gap = max(gap_list)\n",
    "    if len(x) == 1:\n",
    "        gap = 0\n",
    "    return gap\n",
    "\n",
    "df2 = df.withColumn('ts2',col('ts')/86400000)\n",
    "df_ts = df2.groupby('userId').agg(F.collect_list('ts2'))\n",
    "calc_gap_udf = udf(calc_gap,DoubleType())    \n",
    "df_gap = df_ts.withColumn('max_gap',calc_gap_udf('collect_list(ts2)'))\n",
    "user_df=user_df.join(df_gap.select('userId','max_gap'), ['userId'])"
   ]
  },
  {
   "cell_type": "code",
   "execution_count": 22,
   "metadata": {},
   "outputs": [],
   "source": [
    "# reg_length: time since registration \n",
    "df_latest = df.select('userId','ts').groupBy('userId').agg(F.max('ts')).withColumnRenamed('max(ts)','max_ts')\n",
    "df_reg = df.select('userId','registration').groupby('userId').agg(F.min('registration'))\n",
    "df_latest = df_latest.join(df_reg,['userId'])\n",
    "df_reg_length = df_latest.withColumn('reg_days',(col('max_ts')-col('min(registration)'))/86400000)\n",
    "user_df=user_df.join(df_reg_length.select('userId','reg_days'), ['userId'])"
   ]
  },
  {
   "cell_type": "code",
   "execution_count": 23,
   "metadata": {},
   "outputs": [],
   "source": [
    "# session frequency: session count/reg_days \n",
    "user_df = user_df.withColumn('se_freq',col('session_count')/col('reg_days'))"
   ]
  },
  {
   "cell_type": "code",
   "execution_count": 24,
   "metadata": {},
   "outputs": [],
   "source": [
    "# avg item number in sessions \n",
    "avg_session_items = df.groupby('userId').agg(F.avg('itemInSession')).withColumnRenamed('avg(itemInSession)', 'avg_session_items')\n",
    "user_df = user_df.join(avg_session_items,['userId'])"
   ]
  },
  {
   "cell_type": "code",
   "execution_count": 25,
   "metadata": {},
   "outputs": [],
   "source": [
    "# avg session_length in sessions \n",
    "avg_length = df.groupby('userId').agg(F.avg('length')).withColumnRenamed('avg(length)', 'avg_length')\n",
    "user_df = user_df.join(avg_length,['userId'])"
   ]
  },
  {
   "cell_type": "code",
   "execution_count": 26,
   "metadata": {},
   "outputs": [],
   "source": [
    "# total session_length in sessions \n",
    "sum_length = df.groupby('userId').agg(F.sum('length')).withColumnRenamed('sum(length)', 'sum_length')\n",
    "user_df = user_df.join(sum_length,['userId'])"
   ]
  },
  {
   "cell_type": "code",
   "execution_count": 27,
   "metadata": {},
   "outputs": [
    {
     "name": "stdout",
     "output_type": "stream",
     "text": [
      "root\n",
      " |-- userId: string (nullable = true)\n",
      " |-- churn: integer (nullable = true)\n",
      " |-- gender: integer (nullable = true)\n",
      " |-- level: integer (nullable = true)\n",
      " |-- artist_count: long (nullable = false)\n",
      " |-- song_count: long (nullable = false)\n",
      " |-- avg(length): double (nullable = true)\n",
      " |-- session_count: long (nullable = false)\n",
      " |-- cancel_count: long (nullable = true)\n",
      " |-- location: string (nullable = true)\n",
      " |-- total_length: double (nullable = true)\n",
      " |-- max_gap: double (nullable = true)\n",
      " |-- reg_days: double (nullable = true)\n",
      " |-- se_freq: double (nullable = true)\n",
      " |-- avg_session_items: double (nullable = true)\n",
      " |-- avg_length: double (nullable = true)\n",
      " |-- sum_length: double (nullable = true)\n",
      "\n"
     ]
    }
   ],
   "source": [
    "user_df.printSchema()"
   ]
  },
  {
   "cell_type": "markdown",
   "metadata": {},
   "source": [
    "#### 3.2.2 Plot figures"
   ]
  },
  {
   "cell_type": "code",
   "execution_count": 103,
   "metadata": {},
   "outputs": [],
   "source": [
    "def count_plot(df,col):\n",
    "    '''\n",
    "    plot comparison for binary variables \n",
    "    Input:\n",
    "    df: pyspark dataframe \n",
    "    col: columns to plot \n",
    "    '''\n",
    "    pd = df.select('userId','churn',col).toPandas()\n",
    "    sns.countplot(x = col,hue = 'churn',data = pd, palette= 'husl')\n",
    "    \n",
    "def box_plot(df,col):\n",
    "    \"\"\"\n",
    "    prints boxplot of input col\n",
    "    Input \n",
    "    df: spark DataFrame\n",
    "    ylabel : column whose values are to be measured\n",
    "    Output :\n",
    "    None\n",
    "    \"\"\"\n",
    "    pd = df.select('userId','churn',col).toPandas()\n",
    "    sns.boxplot(x='churn', y=col, data=pd,palette= 'husl');\n",
    "    \n",
    "def plot_location(df,col):\n",
    "    '''\n",
    "    plot comparison for binary variables \n",
    "    Input:\n",
    "    df: pyspark dataframe \n",
    "    col: columns to plot \n",
    "    '''\n",
    "    pd = df.select('userId','churn',col).toPandas()\n",
    "    fig = plt.figure(figsize=(16,8))\n",
    "    ax = fig.gca()\n",
    "    sns.countplot(x = col,hue = 'churn',data = pd, palette= 'husl')\n",
    "    plt.xticks(rotation=90)\n",
    "    \n",
    "def t_test(df,col1,col2,equal_var):\n",
    "    '''\n",
    "    ttest of independent two samples  \n",
    "    Input:\n",
    "    df: pyspark dataframe \n",
    "    col: columns to perform ttest \n",
    "    '''\n",
    "    pd = df.select(col1,col2).toPandas()\n",
    "    a = pd[col1][pd[col2]==1]\n",
    "    b = pd[col1][pd[col2]==0]\n",
    "    print(stats.ttest_ind(a=a,b=b,equal_var=equal_var))"
   ]
  },
  {
   "cell_type": "code",
   "execution_count": 71,
   "metadata": {},
   "outputs": [
    {
     "name": "stdout",
     "output_type": "stream",
     "text": [
      "Ttest_indResult(statistic=-1.2790615609162541, pvalue=0.20220473677306955)\n"
     ]
    },
    {
     "data": {
      "image/png": "[encoded data removed]",
      "text/plain": [
       "<matplotlib.figure.Figure at 0x7f0fa0be0860>"
      ]
     },
     "metadata": {
      "needs_background": "light"
     },
     "output_type": "display_data"
    }
   ],
   "source": [
    "count_plot(user_df,'gender')\n",
    "t_test(user_df,'gender','churn',True)"
   ]
  },
  {
   "cell_type": "code",
   "execution_count": 72,
   "metadata": {},
   "outputs": [
    {
     "name": "stdout",
     "output_type": "stream",
     "text": [
      "Ttest_indResult(statistic=-0.76052560079396359, pvalue=0.44774383896526881)\n",
      "Ttest_indResult(statistic=-0.76052560079396359, pvalue=0.44774383896526881)\n"
     ]
    },
    {
     "data": {
      "text/plain": [
       "(None, None)"
      ]
     },
     "execution_count": 72,
     "metadata": {},
     "output_type": "execute_result"
    },
    {
     "data": {
      "image/png": "[encoded data removed]",
      "text/plain": [
       "<matplotlib.figure.Figure at 0x7f0fa0cafe48>"
      ]
     },
     "metadata": {
      "needs_background": "light"
     },
     "output_type": "display_data"
    }
   ],
   "source": [
    "count_plot(user_df,'level')\n",
    "t_test(user_df,'churn','level',True),t_test(user_df,'churn','level',False)"
   ]
  },
  {
   "cell_type": "code",
   "execution_count": 73,
   "metadata": {},
   "outputs": [
    {
     "name": "stdout",
     "output_type": "stream",
     "text": [
      "Ttest_indResult(statistic=-2.4462344850122135, pvalue=0.015209940339497649)\n"
     ]
    },
    {
     "data": {
      "image/png": "[encoded data removed]",
      "text/plain": [
       "<matplotlib.figure.Figure at 0x7f0fa0cd1860>"
      ]
     },
     "metadata": {
      "needs_background": "light"
     },
     "output_type": "display_data"
    }
   ],
   "source": [
    "box_plot(user_df,'artist_count') #further statistical analysis?\n",
    "t_test(user_df,'artist_count','churn',True)"
   ]
  },
  {
   "cell_type": "code",
   "execution_count": 82,
   "metadata": {},
   "outputs": [
    {
     "name": "stdout",
     "output_type": "stream",
     "text": [
      "Ttest_indResult(statistic=-2.4053456615058209, pvalue=0.016973210934967127)\n"
     ]
    },
    {
     "data": {
      "image/png": "[encoded data removed]",
      "text/plain": [
       "<matplotlib.figure.Figure at 0x7f0fa043cc88>"
      ]
     },
     "metadata": {
      "needs_background": "light"
     },
     "output_type": "display_data"
    }
   ],
   "source": [
    "box_plot(user_df,'song_count')\n",
    "t_test(user_df,'song_count','churn',True)"
   ]
  },
  {
   "cell_type": "code",
   "execution_count": 104,
   "metadata": {},
   "outputs": [
    {
     "data": {
      "image/png": "[encoded data removed]",
      "text/plain": [
       "<matplotlib.figure.Figure at 0x7f0fa03ceba8>"
      ]
     },
     "metadata": {
      "needs_background": "light"
     },
     "output_type": "display_data"
    }
   ],
   "source": [
    "box_plot(user_df,'cancel_count') # this feature is basically a alias with churn, abandon "
   ]
  },
  {
   "cell_type": "code",
   "execution_count": 74,
   "metadata": {},
   "outputs": [
    {
     "name": "stdout",
     "output_type": "stream",
     "text": [
      "Ttest_indResult(statistic=-2.3328782065735796, pvalue=0.020545334721997797)\n"
     ]
    },
    {
     "data": {
      "image/png": "[encoded data removed]",
      "text/plain": [
       "<matplotlib.figure.Figure at 0x7f0fa0a54358>"
      ]
     },
     "metadata": {
      "needs_background": "light"
     },
     "output_type": "display_data"
    }
   ],
   "source": [
    "box_plot(user_df,'session_count')\n",
    "t_test(user_df,'session_count','churn',True)"
   ]
  },
  {
   "cell_type": "code",
   "execution_count": 75,
   "metadata": {},
   "outputs": [
    {
     "name": "stdout",
     "output_type": "stream",
     "text": [
      "Ttest_indResult(statistic=-0.88644817737172454, pvalue=0.37633101851790407)\n"
     ]
    },
    {
     "data": {
      "image/png": "[encoded data removed]",
      "text/plain": [
       "<matplotlib.figure.Figure at 0x7f0fa0b11940>"
      ]
     },
     "metadata": {
      "needs_background": "light"
     },
     "output_type": "display_data"
    }
   ],
   "source": [
    "box_plot(user_df,'avg(length)')\n",
    "t_test(user_df,'avg(length)','churn',True)"
   ]
  },
  {
   "cell_type": "code",
   "execution_count": 150,
   "metadata": {},
   "outputs": [
    {
     "data": {
      "image/png": "[encoded data removed]",
      "text/plain": [
       "<matplotlib.figure.Figure at 0x7f38f7ed0c18>"
      ]
     },
     "metadata": {
      "needs_background": "light"
     },
     "output_type": "display_data"
    }
   ],
   "source": [
    "plot_location(user_df,'location')"
   ]
  },
  {
   "cell_type": "code",
   "execution_count": 76,
   "metadata": {
    "scrolled": true
   },
   "outputs": [
    {
     "name": "stdout",
     "output_type": "stream",
     "text": [
      "Ttest_indResult(statistic=-5.1179006515599923, pvalue=6.6622427413638166e-07)\n",
      "Ttest_indResult(statistic=-5.1179006515599923, pvalue=6.6622427413638166e-07)\n"
     ]
    },
    {
     "data": {
      "text/plain": [
       "(None, None)"
      ]
     },
     "execution_count": 76,
     "metadata": {},
     "output_type": "execute_result"
    },
    {
     "data": {
      "image/png": "[encoded data removed]",
      "text/plain": [
       "<matplotlib.figure.Figure at 0x7f0fa0adea90>"
      ]
     },
     "metadata": {
      "needs_background": "light"
     },
     "output_type": "display_data"
    }
   ],
   "source": [
    "box_plot(user_df,'max_gap')\n",
    "t_test(user_df,'max_gap','churn',True),t_test(user_df,'max_gap','churn',False),"
   ]
  },
  {
   "cell_type": "code",
   "execution_count": 77,
   "metadata": {},
   "outputs": [
    {
     "name": "stdout",
     "output_type": "stream",
     "text": [
      "Ttest_indResult(statistic=0.69335312678729666, pvalue=0.48880949218844072)\n",
      "Ttest_indResult(statistic=0.69335312678729666, pvalue=0.48880949218844072)\n"
     ]
    },
    {
     "data": {
      "text/plain": [
       "(None, None)"
      ]
     },
     "execution_count": 77,
     "metadata": {},
     "output_type": "execute_result"
    },
    {
     "data": {
      "image/png": "[encoded data removed]",
      "text/plain": [
       "<matplotlib.figure.Figure at 0x7f0fa0725128>"
      ]
     },
     "metadata": {
      "needs_background": "light"
     },
     "output_type": "display_data"
    }
   ],
   "source": [
    "box_plot(user_df,'se_freq')\n",
    "t_test(user_df,'se_freq','churn',True),t_test(user_df,'se_freq','churn',False)"
   ]
  },
  {
   "cell_type": "code",
   "execution_count": 78,
   "metadata": {},
   "outputs": [
    {
     "name": "stdout",
     "output_type": "stream",
     "text": [
      "Ttest_indResult(statistic=-5.1999725267949124, pvalue=4.5041425910754789e-07)\n",
      "Ttest_indResult(statistic=-5.1999725267949124, pvalue=4.5041425910754789e-07)\n"
     ]
    },
    {
     "data": {
      "text/plain": [
       "(None, None)"
      ]
     },
     "execution_count": 78,
     "metadata": {},
     "output_type": "execute_result"
    },
    {
     "data": {
      "image/png": "[encoded data removed]",
      "text/plain": [
       "<matplotlib.figure.Figure at 0x7f0fa068bc88>"
      ]
     },
     "metadata": {
      "needs_background": "light"
     },
     "output_type": "display_data"
    }
   ],
   "source": [
    "box_plot(user_df,'reg_days')\n",
    "t_test(user_df,'reg_days','churn',True),t_test(user_df,'reg_days','churn',False)"
   ]
  },
  {
   "cell_type": "code",
   "execution_count": 108,
   "metadata": {},
   "outputs": [
    {
     "name": "stdout",
     "output_type": "stream",
     "text": [
      "Ttest_indResult(statistic=-1.8312627354860118, pvalue=0.068395543863040587)\n",
      "Ttest_indResult(statistic=-1.9583013897632282, pvalue=0.053165860856519288)\n"
     ]
    },
    {
     "data": {
      "text/plain": [
       "(None, None)"
      ]
     },
     "execution_count": 108,
     "metadata": {},
     "output_type": "execute_result"
    },
    {
     "data": {
      "image/png": "[encoded data removed]",
      "text/plain": [
       "<matplotlib.figure.Figure at 0x7f0f9bfb9400>"
      ]
     },
     "metadata": {
      "needs_background": "light"
     },
     "output_type": "display_data"
    }
   ],
   "source": [
    "box_plot(user_df,'avg_session_items')\n",
    "t_test(user_df,'avg_session_items','churn',True),t_test(user_df,'avg_session_items','churn',False)"
   ]
  },
  {
   "cell_type": "code",
   "execution_count": 114,
   "metadata": {},
   "outputs": [
    {
     "name": "stdout",
     "output_type": "stream",
     "text": [
      "Ttest_indResult(statistic=-0.88644817737172454, pvalue=0.37633101851790407)\n",
      "Ttest_indResult(statistic=-0.72967381606016724, pvalue=0.46816297022767561)\n"
     ]
    },
    {
     "data": {
      "text/plain": [
       "(None, None)"
      ]
     },
     "execution_count": 114,
     "metadata": {},
     "output_type": "execute_result"
    },
    {
     "data": {
      "image/png": "[encoded data removed]",
      "text/plain": [
       "<matplotlib.figure.Figure at 0x7f0f9bf87cf8>"
      ]
     },
     "metadata": {
      "needs_background": "light"
     },
     "output_type": "display_data"
    }
   ],
   "source": [
    "box_plot(user_df,'avg_length')\n",
    "t_test(user_df,'avg_length','churn',True),t_test(user_df,'avg_length','churn',False)"
   ]
  },
  {
   "cell_type": "code",
   "execution_count": 115,
   "metadata": {},
   "outputs": [
    {
     "name": "stdout",
     "output_type": "stream",
     "text": [
      "Ttest_indResult(statistic=-2.3694782412455946, pvalue=0.018666181281982965)\n",
      "Ttest_indResult(statistic=-3.0646048942493596, pvalue=0.0026108061807860912)\n"
     ]
    },
    {
     "data": {
      "text/plain": [
       "(None, None)"
      ]
     },
     "execution_count": 115,
     "metadata": {},
     "output_type": "execute_result"
    },
    {
     "data": {
      "image/png": "[encoded data removed]",
      "text/plain": [
       "<matplotlib.figure.Figure at 0x7f0fa03ca208>"
      ]
     },
     "metadata": {
      "needs_background": "light"
     },
     "output_type": "display_data"
    }
   ],
   "source": [
    "box_plot(user_df,'total_length')\n",
    "t_test(user_df,'total_length','churn',True),t_test(user_df,'total_length','churn',False)"
   ]
  },
  {
   "cell_type": "markdown",
   "metadata": {},
   "source": [
    "### 3.3 Conclusion\n",
    "In this session we engineered some potentially important features, plot the comparisons and perform preliminary statistical analysis. \n",
    "<br>Here are a few takehomes:\n",
    "1. Cancel_count is not a valid parameter. Originally I thought it might be different from cancel_confirmation count but it's essentially the same\n",
    "<br>\n",
    "<br>\n",
    "2. gender and level are weak predictors but worth included in final model. The figures show some difference but not in stats. As t_test is not the best option for binary data and I'm only doing preliminary analysis here, I decide to include them in the model. \n",
    "<br>\n",
    "<br>\n",
    "3. Location will not be included in the final model. Although didn't perform stats analysis, it shows very large variances so not likely to provide good predicting power. This feature could be explored more in more sophisticated models in the future. \n",
    "<br>\n",
    "<br>\n",
    "4. reg_days, max_gap, session_count and artist_count, avg_session_items, and total_length are strong predictors and will be included in final model, as indicated by stats results \n",
    "<br>\n",
    "<br>\n",
    "5. session_freq and avg(length) are probably not predictors. They didn't show any stats power even with large sample size. So in the first version of model I would not include them "
   ]
  },
  {
   "cell_type": "markdown",
   "metadata": {},
   "source": [
    "# 4. Feature Engineering\n",
    "Once you've familiarized yourself with the data, build out the features you find promising to train your model on. To work with the full dataset, you can follow the following steps.\n",
    "- Write a script to extract the necessary features from the smaller subset of data\n",
    "- Ensure that your script is scalable, using the best practices discussed in Lesson 3\n",
    "- Try your script on the full data set, debugging your script if necessary\n",
    "\n",
    "If you are working in the classroom workspace, you can just extract features based on the small subset of data contained here. Be sure to transfer over this work to the larger dataset when you work on your Spark cluster."
   ]
  },
  {
   "cell_type": "markdown",
   "metadata": {},
   "source": [
    "### 4.1 Engineer features (continued)\n",
    "We have engineered the following features in section 3.2.1 and filtered some out, here are the remaining feature list:\n",
    "1. artist count\n",
    "2. song count \n",
    "3. largest gap between visits  \n",
    "4. session counts \n",
    "5. gender \n",
    "6. level \n",
    "7. total length of visit (total_length)\n",
    "8. total registration days (reg_days) \n",
    "9. average session item count (avg_session_items)\n",
    "\n",
    "Here are more features I haven't explored but might be good predictors:\n",
    "<br>\n",
    "page viewing frequency "
   ]
  },
  {
   "cell_type": "code",
   "execution_count": 28,
   "metadata": {},
   "outputs": [],
   "source": [
    "# page view frequency \n",
    "df_page=df.groupBy('userId').pivot('page').count().na.fill(0).drop('Cancellation Confirmation','Cancel')\n",
    "df_page_total=df.filter(\"page != 'Cancellation Confirmation' and page != 'Cancel'\" ).groupBy('userId').count()\n",
    "df_page=df_page.join(df_page_total,['userId'])\n",
    "\n",
    "cols=df_page.columns\n",
    "cols=[column for column in cols if column not in ('userId', 'count')]\n",
    "\n",
    "for s in cols:\n",
    "    df_page = df_page.withColumn(s, col(s)/col('count'))\n",
    "\n",
    "user_df = user_df.join(df_page,[\"userId\"])"
   ]
  },
  {
   "cell_type": "code",
   "execution_count": 29,
   "metadata": {},
   "outputs": [
    {
     "name": "stdout",
     "output_type": "stream",
     "text": [
      "root\n",
      " |-- userId: string (nullable = true)\n",
      " |-- churn: integer (nullable = true)\n",
      " |-- gender: integer (nullable = true)\n",
      " |-- level: integer (nullable = true)\n",
      " |-- artist_count: long (nullable = false)\n",
      " |-- song_count: long (nullable = false)\n",
      " |-- avg(length): double (nullable = true)\n",
      " |-- session_count: long (nullable = false)\n",
      " |-- total_length: double (nullable = true)\n",
      " |-- max_gap: double (nullable = true)\n",
      " |-- reg_days: double (nullable = true)\n",
      " |-- avg_session_items: double (nullable = true)\n",
      " |-- sum_length: double (nullable = true)\n",
      " |-- About: double (nullable = true)\n",
      " |-- Add Friend: double (nullable = true)\n",
      " |-- Add to Playlist: double (nullable = true)\n",
      " |-- Downgrade: double (nullable = true)\n",
      " |-- Error: double (nullable = true)\n",
      " |-- Help: double (nullable = true)\n",
      " |-- Home: double (nullable = true)\n",
      " |-- Logout: double (nullable = true)\n",
      " |-- NextSong: double (nullable = true)\n",
      " |-- Roll Advert: double (nullable = true)\n",
      " |-- Save Settings: double (nullable = true)\n",
      " |-- Settings: double (nullable = true)\n",
      " |-- Submit Downgrade: double (nullable = true)\n",
      " |-- Submit Upgrade: double (nullable = true)\n",
      " |-- Thumbs Down: double (nullable = true)\n",
      " |-- Thumbs Up: double (nullable = true)\n",
      " |-- Upgrade: double (nullable = true)\n",
      " |-- count: long (nullable = false)\n",
      "\n"
     ]
    }
   ],
   "source": [
    "# data is ready for the model \n",
    "user_df = user_df.drop('se_freq','avg_length','location','cancel_count')\n",
    "user_df.printSchema()"
   ]
  },
  {
   "cell_type": "markdown",
   "metadata": {},
   "source": [
    "# 5. Modeling\n",
    "Split the full dataset into train, test, and validation sets. Test out several of the machine learning methods you learned. Evaluate the accuracy of the various models, tuning parameters as necessary. Determine your winning model based on test accuracy and report results on the validation set. Since the churned users are a fairly small subset, I suggest using F1 score as the metric to optimize.\n",
    "\n",
    "### 5.1 split data into train and test data set "
   ]
  },
  {
   "cell_type": "code",
   "execution_count": 31,
   "metadata": {},
   "outputs": [],
   "source": [
    "user_df = user_df.drop('userId')\n",
    "#user_df.write.save(\"user_df.csv\",format = \"csv\",header = True)\n",
    "features = [col for col in user_df.columns if col!='churn'] \n",
    "train, test = user_df.randomSplit([0.7, 0.3], seed=42)\n",
    "train = train.cache()"
   ]
  },
  {
   "cell_type": "markdown",
   "metadata": {},
   "source": [
    "### 5.2 Model fitting"
   ]
  },
  {
   "cell_type": "code",
   "execution_count": 30,
   "metadata": {},
   "outputs": [],
   "source": [
    "def model_pipeline(classifier, params):\n",
    "    \"\"\"\n",
    "    Build model pipline \n",
    "    input:\n",
    "    classifier: type of classifier\n",
    "    params: param grid\n",
    "    output :\n",
    "    ML pipeline model\n",
    "    \"\"\"\n",
    "    assembler = VectorAssembler(inputCols=features, outputCol=\"features\")\n",
    "    scaler = MinMaxScaler(inputCol=\"features\", outputCol=\"scaled_features\")\n",
    "    pipeline = Pipeline(stages=[assembler, scaler, classifier])\n",
    "\n",
    "    model = CrossValidator(\n",
    "        estimator=pipeline,\n",
    "        estimatorParamMaps=params,\n",
    "        evaluator = MulticlassClassificationEvaluator(labelCol='churn', metricName='f1'),\n",
    "        numFolds=5,\n",
    "    )\n",
    "    return model"
   ]
  },
  {
   "cell_type": "code",
   "execution_count": 32,
   "metadata": {},
   "outputs": [],
   "source": [
    "# logistic regression \n",
    "m1 = LogisticRegression(featuresCol=\"scaled_features\", labelCol=\"churn\")\n",
    "m1_param = ParamGridBuilder().build()\n",
    "model_lr = model_pipeline(m1, m1_param)"
   ]
  },
  {
   "cell_type": "code",
   "execution_count": 33,
   "metadata": {},
   "outputs": [],
   "source": [
    "fit_model_lr = model_lr.fit(train)"
   ]
  },
  {
   "cell_type": "code",
   "execution_count": 34,
   "metadata": {},
   "outputs": [],
   "source": [
    "pred_lr = fit_model_lr.transform(test)"
   ]
  },
  {
   "cell_type": "code",
   "execution_count": 35,
   "metadata": {},
   "outputs": [
    {
     "name": "stdout",
     "output_type": "stream",
     "text": [
      "f1 using Logistic Regression: 0.7545523690215203\n"
     ]
    }
   ],
   "source": [
    "pred_lr.select(\"prediction\").dropDuplicates().collect()\n",
    "evaluator = MulticlassClassificationEvaluator(predictionCol=\"prediction\", labelCol=\"churn\")\n",
    "f1_score = evaluator.evaluate(pred_lr, {evaluator.metricName: \"f1\"})\n",
    "print(\"f1 using Logistic Regression: {}\".format(f1_score))"
   ]
  },
  {
   "cell_type": "code",
   "execution_count": 35,
   "metadata": {},
   "outputs": [],
   "source": [
    "#random forest\n",
    "m2 = RandomForestClassifier(featuresCol=\"scaled_features\", labelCol=\"churn\")\n",
    "m2_param = ParamGridBuilder().build()\n",
    "model_rf = model_pipeline(m2, m2_param)"
   ]
  },
  {
   "cell_type": "code",
   "execution_count": 36,
   "metadata": {},
   "outputs": [],
   "source": [
    "fit_model_rf = model_rf.fit(train)"
   ]
  },
  {
   "cell_type": "code",
   "execution_count": 37,
   "metadata": {},
   "outputs": [],
   "source": [
    "pred_rf = fit_model_rf.transform(test)"
   ]
  },
  {
   "cell_type": "code",
   "execution_count": null,
   "metadata": {},
   "outputs": [],
   "source": [
    "f1_score_rf = evaluator.evaluate(pred_rf, {evaluator.metricName: \"f1\"})\n",
    "print(\"f1 using Random Forest: {}\".format(f1_score_rf))"
   ]
  },
  {
   "cell_type": "code",
   "execution_count": null,
   "metadata": {},
   "outputs": [],
   "source": [
    "# gradient boost\n",
    "gbt =GBTClassifier(featuresCol=\"scaled_features\", labelCol=\"churn\")\n",
    "gbt_param = ParamGridBuilder().build()\n",
    "gbt_model = model_pipeline(gbt, gbt_param)"
   ]
  },
  {
   "cell_type": "code",
   "execution_count": null,
   "metadata": {},
   "outputs": [],
   "source": [
    "gbt_fit_model = gbt_model.fit(train)\n",
    "gbt_pred = gbt_fit_model.transform(test)\n",
    "gbt_pred.select(\"prediction\").dropDuplicates().collect()"
   ]
  },
  {
   "cell_type": "code",
   "execution_count": null,
   "metadata": {},
   "outputs": [],
   "source": [
    "gbt_f1_score = evaluator.evaluate(gbt_pred, {evaluator.metricName: \"f1\"})\n",
    "print(\"f1 using Gradient Boosting: {}\".format(gbt_f1_score))"
   ]
  },
  {
   "cell_type": "code",
   "execution_count": null,
   "metadata": {},
   "outputs": [],
   "source": [
    "# Decision Tree\n",
    "dt =DecisionTreeClassifier(featuresCol=\"scaled_features\", labelCol=\"churn\")\n",
    "dt_param = ParamGridBuilder().build()\n",
    "dt_model = model_pipeline(dt, dt_param)"
   ]
  },
  {
   "cell_type": "code",
   "execution_count": null,
   "metadata": {},
   "outputs": [],
   "source": [
    "dt_fit_model = dt_model.fit(train)\n",
    "dt_pred = dt_fit_model.transform(test)"
   ]
  },
  {
   "cell_type": "code",
   "execution_count": null,
   "metadata": {},
   "outputs": [],
   "source": [
    "dt_pred.select(\"prediction\").dropDuplicates().collect()\n",
    "dt_f1_score = evaluator.evaluate(dt_pred, {evaluator.metricName: \"f1\"})\n",
    "print(\"f1 using Gradient Boosting: {}\".format(dt_f1_score))"
   ]
  },
  {
   "cell_type": "markdown",
   "metadata": {},
   "source": [
    "### 5.3 Hyper parameter tuning \n"
   ]
  },
  {
   "cell_type": "code",
   "execution_count": 38,
   "metadata": {},
   "outputs": [],
   "source": [
    "lr = LogisticRegression(featuresCol=\"scaled_features\", labelCol=\"churn\")\n",
    "paramGrid_lr = ParamGridBuilder()\\\n",
    "    .addGrid(lr.regParam, [0.1, 0.01]) \\\n",
    "    .addGrid(lr.fitIntercept, [False, True])\\\n",
    "    .build()\n",
    "model_tuned = model_pipeline(lr, paramGrid_lr)"
   ]
  },
  {
   "cell_type": "code",
   "execution_count": 39,
   "metadata": {},
   "outputs": [],
   "source": [
    "fit_model_tuned = model_tuned.fit(train)                                       \n",
    "best_model = fit_model_tuned.bestModel\n",
    "best_model_pred = best_model.transform(test)"
   ]
  },
  {
   "cell_type": "code",
   "execution_count": 40,
   "metadata": {},
   "outputs": [
    {
     "name": "stdout",
     "output_type": "stream",
     "text": [
      "f1 using tuned RF: 0.7673697270471463\n"
     ]
    }
   ],
   "source": [
    "evaluator = MulticlassClassificationEvaluator(predictionCol=\"prediction\", labelCol=\"churn\")\n",
    "best_f1_score = evaluator.evaluate(best_model_pred, {evaluator.metricName: \"f1\"})\n",
    "print(\"f1 using tuned RF: {}\".format(best_f1_score))"
   ]
  },
  {
   "cell_type": "code",
   "execution_count": null,
   "metadata": {},
   "outputs": [],
   "source": [
    "   "
   ]
  },
  {
   "cell_type": "markdown",
   "metadata": {},
   "source": [
    "### 5.4 Feature importance rank"
   ]
  },
  {
   "cell_type": "code",
   "execution_count": 42,
   "metadata": {},
   "outputs": [
    {
     "data": {
      "image/png": "[encoded data removed]",
      "text/plain": [
       "<matplotlib.figure.Figure at 0x7f4d74c1c860>"
      ]
     },
     "metadata": {
      "needs_background": "light"
     },
     "output_type": "display_data"
    }
   ],
   "source": [
    "def plot_feature_importance(model, feature_cols):\n",
    "    \"\"\"\n",
    "    Plot bar chart showing the importance of features with logistic regression model. \n",
    "    \"\"\"\n",
    "       \n",
    "    feature_coef = model.bestModel.stages[2].coefficients.values.tolist()\n",
    "    feature_coef_df = pd.DataFrame(list(zip(feature_cols, feature_coef)), columns=['Feature', 'Coefficient'])\\\n",
    "    .sort_values('Coefficient', ascending=False)\n",
    "\n",
    "    plt.figure(figsize=(20,5))\n",
    "    sns.barplot(x='Feature', y='Coefficient', data=feature_coef_df)\n",
    "    plt.title('Feature importance for Logistic Regression Model', fontsize=20)\n",
    "    plt.xlabel('Features', fontsize=17)\n",
    "    plt.ylabel('Coefficient', fontsize=17)\n",
    "    plt.xticks(rotation=45, ha='right', fontsize=15)\n",
    "    plt.yticks(fontsize=15)\n",
    "    plt.tight_layout()\n",
    "    plt.show()\n",
    "\n",
    "plot_feature_importance(fit_model_tuned, user_df.columns[2:])"
   ]
  },
  {
   "cell_type": "markdown",
   "metadata": {},
   "source": [
    "# Final Steps\n",
    "Clean up your code, adding comments and renaming variables to make the code easier to read and maintain. Refer to the Spark Project Overview page and Data Scientist Capstone Project Rubric to make sure you are including all components of the capstone project and meet all expectations. Remember, this includes thorough documentation in a README file in a Github repository, as well as a web app or blog post."
   ]
  },
  {
   "cell_type": "code",
   "execution_count": null,
   "metadata": {},
   "outputs": [],
   "source": []
  },
  {
   "cell_type": "code",
   "execution_count": null,
   "metadata": {},
   "outputs": [],
   "source": []
  }
 ],
 "metadata": {
  "kernelspec": {
   "display_name": "Python 3",
   "language": "python",
   "name": "python3"
  },
  "language_info": {
   "codemirror_mode": {
    "name": "ipython",
    "version": 3
   },
   "file_extension": ".py",
   "mimetype": "text/x-python",
   "name": "python",
   "nbconvert_exporter": "python",
   "pygments_lexer": "ipython3",
   "version": "3.6.3"
  }
 },
 "nbformat": 4,
 "nbformat_minor": 2
}
